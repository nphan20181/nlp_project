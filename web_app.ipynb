{
 "cells": [
  {
   "cell_type": "markdown",
   "id": "c0bc37ef",
   "metadata": {},
   "source": [
    "# Web Application for Text Summarization & Topic Extractions"
   ]
  },
  {
   "cell_type": "code",
   "execution_count": 1,
   "id": "49c01f22",
   "metadata": {},
   "outputs": [],
   "source": [
    "import pandas as pd\n",
    "from jupyter_dash import JupyterDash\n",
    "import dash\n",
    "import dash_daq as daq\n",
    "import dash_table\n",
    "import dash_bootstrap_components as dbc\n",
    "import dash_core_components as dcc\n",
    "import dash_html_components as html\n",
    "from dash.dependencies import Input, Output, State\n",
    "from dash import callback_context\n",
    "import plotly.express as px\n",
    "import plotly.graph_objects as go\n",
    "from plotly.figure_factory import create_gantt\n",
    "from plotly.subplots import make_subplots\n",
    "import warnings\n",
    "warnings.filterwarnings('ignore')\n",
    "\n",
    "# user defined module\n",
    "import app_functions"
   ]
  },
  {
   "cell_type": "markdown",
   "id": "6c53ae16",
   "metadata": {},
   "source": [
    "## Load Test Data"
   ]
  },
  {
   "cell_type": "code",
   "execution_count": 2,
   "id": "99e7a306",
   "metadata": {},
   "outputs": [],
   "source": [
    "# test data is retrieved from https://en.wikipedia.org/wiki/Natural_language_processing#Common_NLP_tasks\n",
    "# load test data for preloading input text into a textbox\n",
    "with open('test.txt', 'r') as f:\n",
    "    test_input = f.read()"
   ]
  },
  {
   "cell_type": "markdown",
   "id": "2099047c",
   "metadata": {},
   "source": [
    "## Text Summarization Model"
   ]
  },
  {
   "cell_type": "code",
   "execution_count": 3,
   "id": "960d0ba3",
   "metadata": {},
   "outputs": [],
   "source": [
    "import torch \n",
    "from transformers import AutoTokenizer, AutoModelWithLMHead\n",
    "\n",
    "tokenizer = AutoTokenizer.from_pretrained('t5-base')\n",
    "model = AutoModelWithLMHead.from_pretrained('t5-base', return_dict = True)\n",
    "\n",
    "def summarize_t5base(text, model, tokenizer):  \n",
    "    input = tokenizer.encode(\"summarize: \" + text, return_tensors='pt', max_length=1000, truncation=True)\n",
    "    output = model.generate(input, max_length=250, min_length=25, length_penalty=5, num_beams=2)\n",
    "    final_output = tokenizer.decode(output[0])\n",
    "    \n",
    "    return final_output"
   ]
  },
  {
   "cell_type": "markdown",
   "id": "6b610a07",
   "metadata": {},
   "source": [
    "## App Layout"
   ]
  },
  {
   "cell_type": "code",
   "execution_count": 4,
   "id": "a788f63c",
   "metadata": {},
   "outputs": [],
   "source": [
    "# set height for a given object\n",
    "obj_height = '450px'\n",
    "\n",
    "# section header style\n",
    "sectionHeaderStyle = {'fontSize': '30px', 'color':'#fcf75e'}\n",
    "\n",
    "# set style for header Div\n",
    "divHeaderStyle = {'border': '1px solid #b0c4de', 'backgroundColor':'#1e90ff',\n",
    "                  'textAlign':'center', 'color':'white', 'fontWeight':'bold', 'fontSize':'16pt'}\n",
    "divStyle = {'width':'450px', 'height':obj_height, 'border': '1px solid #b0c4de', \n",
    "            'backgroundColor':'#fff', 'margin-right':'40px'}\n",
    "\n",
    "# style for loading spinner/circle\n",
    "loading_parent_style = {'width':'100%', 'height':'412px',\n",
    "                        'align':'center', 'vertical-align':'middle',\n",
    "                        'position':'relative'}"
   ]
  },
  {
   "cell_type": "code",
   "execution_count": 5,
   "id": "b09384be",
   "metadata": {},
   "outputs": [],
   "source": [
    "# instantiate the app\n",
    "app = JupyterDash(__name__, external_stylesheets=[dbc.themes.BOOTSTRAP])\n",
    "\n",
    "# create the layout of the app\n",
    "app.layout = html.Main([\n",
    "    html.H1('Topic Extraction & Text Summarization for Computer Science Journals', \n",
    "            style={'fontSize': '40px', 'color':'#fff', 'margin-bottom':'30px'}),\n",
    "    html.Table([\n",
    "        html.Tr([\n",
    "            html.Td(html.Div(style={'width':'20px'})), # end html.Td\n",
    "            html.Td([\n",
    "                dbc.Row([\n",
    "                    html.H2('Text Summarization', style={'fontSize': '30px', 'color':'#fcf75e'}),\n",
    "                    dbc.Tabs([\n",
    "                        dbc.Tab([\n",
    "                            html.Div([\n",
    "                                dcc.Textarea(\n",
    "                                    id='input_text', value=test_input,\n",
    "                                    style={'width': '800px', 'height': '400px', \n",
    "                                           'backgroundColor':'#f5f5f5', 'overflow':'auto'},\n",
    "                                ) # end dcc.Textarea\n",
    "                            ]), # end html.Div\n",
    "                            html.Div(\n",
    "                                [html.Button('Generate Summary & Topics', id='btn_submit', n_clicks=0, \n",
    "                                             style={'fontSize':'14pt', 'color':'#00008b',\n",
    "                                                    'backgroundColor':'#89cff0'})],\n",
    "                            style={'transform': 'translateX(35%)', 'margin':'10px'}), # end html.Div\n",
    "                        ], label='Input Text'), # end dbc.Tab\n",
    "                    ], style={'font-weight':'bold', 'fontColor':'blue'}), # end dbc.Tabs\n",
    "                ]), # end dbc.Row\n",
    "                dbc.Row([\n",
    "                    dbc.Tabs([\n",
    "                        dbc.Tab([\n",
    "                            dcc.Loading(\n",
    "                                id=\"loading-output-text\",\n",
    "                                type=\"default\",\n",
    "                                children=html.Div(id='output_text', \n",
    "                                                 style={'whiteSpace': 'pre-line', 'backgroundColor':'#e7feff', \n",
    "                                                        'border': '1px solid green', 'overflow':'auto', \n",
    "                                                        'height':'400px', 'width':'800px'}), # end html.Div\n",
    "                            ),\n",
    "                        ], label='Summarized Text', style={'backgroundColor':'#e7feff'}), # end dbc.Tab\n",
    "                    ], style={'font-weight':'bold'}), # end dbc.Tabs\n",
    "                ]), # end dbc.Row\n",
    "            ]), # end html.Td\n",
    "            html.Td(html.Div(style={'width':'80px'})), # end html.Td\n",
    "            html.Td([\n",
    "                html.H2('Topic Extraction', style=sectionHeaderStyle),\n",
    "                html.Table([\n",
    "                    html.Tr([\n",
    "                        html.Td([\n",
    "                            html.Div([\n",
    "                                dcc.Loading(\n",
    "                                    id='loading-topics',\n",
    "                                    type='circle',\n",
    "                                    children=[html.Div(id='topic_info'), # end html.Div\n",
    "                                              html.Div(id='topic_table', style={'margin':'20px'})],\n",
    "                                    parent_style={'height':'350px', 'width':'100%',\n",
    "                                                  'align':'center', 'vertical-align':'middle',\n",
    "                                                  'position':'relative'}\n",
    "                                ), # end dcc.Loading\n",
    "                            ], style={'border': '1px solid #b0c4de',\n",
    "                                      'backgroundColor':'white', 'margin-right':'10px',\n",
    "                                      'width':'500px', 'height':'400px', 'overflowY':'auto'}), # end html.Div\n",
    "                        ]), # end html.Td\n",
    "                        html.Td([\n",
    "                            html.Div([\n",
    "                                dcc.Loading(\n",
    "                                    id='loading-metric-fig',\n",
    "                                    type='circle',\n",
    "                                    children=dcc.Graph(id='metric_fig', style={'height':'400px'})\n",
    "                                ), # end dcc.Loading\n",
    "                            ], style={'border': '1px solid #b0c4de', 'backgroundColor':'white', \n",
    "                                      'width':'430px', 'height':'400px'}), # end html.Div\n",
    "                        ]), # end html.Td\n",
    "                    ]), # end html.Tr\n",
    "                ], style={'margin-bottom':'25px'}), # end html.Table\n",
    "                html.H2('Word Cloud', style=sectionHeaderStyle),\n",
    "                html.Table([\n",
    "                    html.Tr([\n",
    "                        html.Td([\n",
    "                            html.Div([\n",
    "                                html.Div(['Input Text'], style=divHeaderStyle),\n",
    "                                html.Div([\n",
    "                                    dcc.Loading(\n",
    "                                        id=\"loading-text-wc\",\n",
    "                                        type=\"circle\",\n",
    "                                        children=html.Img(id='text_wordcloud'),\n",
    "                                        parent_style=loading_parent_style,\n",
    "                                    ), # end dcc.Loading\n",
    "                                ]), # end Div\n",
    "                            ], style=divStyle), # end html.Div\n",
    "                        ]), # end html.Td\n",
    "                        html.Td([\n",
    "                            html.Div([\n",
    "                                html.Div(['Summarized Text'], style=divHeaderStyle),\n",
    "                                html.Div([\n",
    "                                    dcc.Loading(\n",
    "                                        id=\"loading-output-wc\",\n",
    "                                        type=\"circle\",\n",
    "                                        children=html.Img(id='output_wordcloud'),\n",
    "                                        parent_style=loading_parent_style,\n",
    "                                    ), # end dcc.Loading\n",
    "                                ]), # end Div\n",
    "                            ], style=divStyle), # end html.Div\n",
    "                        ]), # end html.Td\n",
    "                    ]), # end html.Tr\n",
    "                ]), # end html.Table\n",
    "            ], style={'vertical-align':'top'}), # end html.Td\n",
    "        ]), # end html.Tr\n",
    "    ]), # end html.Table\n",
    "    html.Div(style={'height':'50px'}),\n",
    "], style={'backgroundColor':'#000039'}) # end html.Main"
   ]
  },
  {
   "cell_type": "markdown",
   "id": "f206e27a",
   "metadata": {},
   "source": [
    "## Callback Functions"
   ]
  },
  {
   "cell_type": "markdown",
   "id": "028f9dba",
   "metadata": {},
   "source": [
    "#### Submit Button"
   ]
  },
  {
   "cell_type": "code",
   "execution_count": 6,
   "id": "7df29c85",
   "metadata": {},
   "outputs": [],
   "source": [
    "@app.callback(\n",
    "    Output('output_text', 'children'),\n",
    "    Input('btn_submit', 'n_clicks'),\n",
    "    State('input_text', 'value'),\n",
    "    prevent_initial_call=True\n",
    ")\n",
    "def update_output(n_clicks, input_text):\n",
    "    # T5 model and tokenizer for text summarization task \n",
    "    global model, tokenizer\n",
    "    \n",
    "    output_text = ''\n",
    "    cleaned_text = ''\n",
    "    if n_clicks > 0:\n",
    "        output_text = summarize_t5base(input_text, model, tokenizer)\n",
    "          \n",
    "    return '{}'.format(output_text[5:-4])"
   ]
  },
  {
   "cell_type": "markdown",
   "id": "cb4af382",
   "metadata": {},
   "source": [
    "#### Extracted Topics"
   ]
  },
  {
   "cell_type": "code",
   "execution_count": 7,
   "id": "33d0c115",
   "metadata": {},
   "outputs": [],
   "source": [
    "def build_metric_figure(score_metrics, best_k):\n",
    "    '''Build line plots of coherence and perplexity scores'''\n",
    "    \n",
    "    # Create traces\n",
    "    fig = make_subplots(specs=[[{\"secondary_y\": True}]])\n",
    "    \n",
    "    # plot coherence scores\n",
    "    fig.add_trace(go.Scatter(x=score_metrics['Number of Topics'], y=score_metrics['Coherence'],\n",
    "                             mode='lines+markers', name='Coherence'))\n",
    "    # plot perplexity scores\n",
    "    fig.add_trace(go.Scatter(x=score_metrics['Number of Topics'], y=score_metrics['Perplexity'],\n",
    "                             mode='lines+markers', name='Perplexity'),\n",
    "                  secondary_y=True)\n",
    "    fig.add_vline(x=best_k, line_width=2, line_dash=\"dash\", line_color=\"green\",\n",
    "                  annotation_text=\"<b>Best k=\" + str(best_k) +'</b>', annotation_position=\"bottom right\")\n",
    "    \n",
    "    # Set y-axes titles\n",
    "    fig.update_yaxes(title_text=\"<b>Coherence</b>\", secondary_y=False)\n",
    "    fig.update_yaxes(title_text=\"<b>Perplexity</b>\", secondary_y=True)\n",
    "    fig.update_xaxes(title_text='<b>Number of Topics (k)</b>')\n",
    "    \n",
    "    # Set figure's title and legend\n",
    "    fig.update_layout(legend=dict(orientation=\"h\", yanchor=\"bottom\", y=1.01, xanchor=\"right\", x=0.98), \n",
    "                      width=430, height=400, title='<b>Model Evaluation</b>')\n",
    "    \n",
    "    # return figure\n",
    "    return fig"
   ]
  },
  {
   "cell_type": "code",
   "execution_count": 8,
   "id": "4d1fad49",
   "metadata": {},
   "outputs": [],
   "source": [
    "# terms table style\n",
    "terms_style_header={'backgroundColor':\"#6495ed\", 'border': '1px solid white', \n",
    "                    'textAlign': 'center', 'fontWeight': 'bold'}\n",
    "terms_style_data={'backgroundColor':\"#add8e6\", 'border': '1px solid white', 'height': 'auto'}\n",
    "\n",
    "\n",
    "@app.callback(Output('topic_table', 'children'),\n",
    "              Output('topic_info', 'children'),\n",
    "              Output('metric_fig', 'figure'),\n",
    "              Input('btn_submit', 'n_clicks'),\n",
    "              State('input_text', 'value'),\n",
    "              prevent_initial_call=True)\n",
    "def load_metric_figure(nclicks, input_text):\n",
    "    # check if the user clicks the submit button\n",
    "    if nclicks > 0:\n",
    "        cleaned_text = app_functions.process_text(input_text)\n",
    "        \n",
    "        # extract topics and get scores\n",
    "        topics, score_metrics = app_functions.extract_topics(cleaned_text)\n",
    "        \n",
    "        # build topic info table\n",
    "        max_coherence = max(score_metrics['Coherence'])\n",
    "        best_k = score_metrics[score_metrics['Coherence'] == max_coherence]\n",
    "        text_style = {'color':'blue', 'display':'inline', 'margin':'20px'}\n",
    "        topic_info = html.Table([\n",
    "            html.Tr([\n",
    "                html.Td([\n",
    "                    html.H5('Number of topics: ', style={'display':'inline'}),\n",
    "                    html.H4(best_k['Number of Topics'].values[0], style=text_style)\n",
    "                ]),\n",
    "            ]), # end html.Tr\n",
    "            html.Tr([\n",
    "                html.Td([\n",
    "                    html.H5('Coherence: ', style={'display':'inline'}),\n",
    "                    html.H4(round(best_k['Coherence'].values[0], 4), style=text_style)\n",
    "                ]),\n",
    "            ]), # end html.Tr\n",
    "            html.Tr([\n",
    "                html.Td([\n",
    "                    html.H5('Perplexity: ', style={'display':'inline'}),\n",
    "                    html.H4(round(best_k['Perplexity'].values[0], 4), style=text_style)\n",
    "                ]),\n",
    "            ]), # end html.Tr\n",
    "        ], style={'margin':'10px'}) # end html.Table \n",
    "        \n",
    "        \n",
    "        # prepare data for topic_table\n",
    "        topics_data = topics.to_dict('records')\n",
    "        # build topic table\n",
    "        topic_table = dash_table.DataTable(columns=[{\"name\": i, \"id\": i} for i in topics.columns],\n",
    "                             data=topics.to_dict('records'),\n",
    "                             style_table={'height': '350px', 'width':'420px'},\n",
    "                             style_cell={'whiteSpace': 'normal', 'textAlign': 'left', \n",
    "                                         'height':'auto', 'verticalAlign':'top',\n",
    "                                         # all three widths are needed\n",
    "                                         'minWidth': '30px', 'width': '200px', 'maxWidth': '300px',},\n",
    "                             style_header=terms_style_header,\n",
    "                             style_data=terms_style_data,\n",
    "                             style_cell_conditional=[{'if': {'column_id': 'Topic Id'}, 'width': '20px'},],\n",
    "                            )    # end DataTable \n",
    "        \n",
    "        return topic_table, topic_info, build_metric_figure(score_metrics, best_k['Number of Topics'].values[0])\n",
    "    else:\n",
    "        return html.H5('No topics found.'), '', {}"
   ]
  },
  {
   "cell_type": "markdown",
   "id": "744fc655",
   "metadata": {},
   "source": [
    "#### Word Clouds"
   ]
  },
  {
   "cell_type": "code",
   "execution_count": 9,
   "id": "a49eb04f",
   "metadata": {},
   "outputs": [],
   "source": [
    "from wordcloud import WordCloud\n",
    "from io import BytesIO\n",
    "import base64\n",
    "import matplotlib.pyplot as plt\n",
    "\n",
    "def plot_wordcloud(text_in):\n",
    "    # build a word cloud of text\n",
    "    wc = WordCloud(background_color=\"white\", #collocation_threshold=2,\n",
    "                   width=446, height=412).generate(text_in)\n",
    "    \n",
    "    # return the word cloud as an image\n",
    "    return wc.to_image()"
   ]
  },
  {
   "cell_type": "code",
   "execution_count": 10,
   "id": "76c6e0d5",
   "metadata": {},
   "outputs": [],
   "source": [
    "@app.callback(\n",
    "    Output('text_wordcloud', 'src'),\n",
    "    Output('output_wordcloud', 'src'),\n",
    "    Input('btn_submit', 'n_clicks'),\n",
    "    Input('input_text', 'value'),\n",
    "    Input('output_text', 'children'),\n",
    "    prevent_initial_call=True)\n",
    "def build_wordclouds(n_clicks, input_text, summarized_text):\n",
    "    \n",
    "    # create WordCloud for input text\n",
    "    input_wc = BytesIO()\n",
    "    plot_wordcloud(input_text).save(input_wc, format='PNG')\n",
    "    \n",
    "    # create a Word Cloud for summarized text\n",
    "    output_wc = BytesIO()\n",
    "    plot_wordcloud(summarized_text).save(output_wc, format='PNG')\n",
    "    \n",
    "    return 'data:image/png;base64,{}'.format(base64.b64encode(input_wc.getvalue()).decode()), \\\n",
    "           'data:image/png;base64,{}'.format(base64.b64encode(output_wc.getvalue()).decode())"
   ]
  },
  {
   "cell_type": "markdown",
   "id": "91fa3cd1",
   "metadata": {},
   "source": [
    "## Start App"
   ]
  },
  {
   "cell_type": "code",
   "execution_count": 11,
   "id": "b053955b",
   "metadata": {},
   "outputs": [
    {
     "name": "stderr",
     "output_type": "stream",
     "text": [
      " * Running on http://127.0.0.1:9000/ (Press CTRL+C to quit)\n",
      "127.0.0.1 - - [30/Nov/2021 22:11:48] \"\u001b[37mGET /_alive_237ff964-35c1-4f0c-9ba2-57782f3b2965 HTTP/1.1\u001b[0m\" 200 -\n"
     ]
    },
    {
     "name": "stdout",
     "output_type": "stream",
     "text": [
      "Dash app running on http://127.0.0.1:9000/\n"
     ]
    },
    {
     "name": "stderr",
     "output_type": "stream",
     "text": [
      "127.0.0.1 - - [30/Nov/2021 22:11:49] \"\u001b[37mGET / HTTP/1.1\u001b[0m\" 200 -\n",
      "127.0.0.1 - - [30/Nov/2021 22:11:50] \"\u001b[37mGET /_dash-dependencies HTTP/1.1\u001b[0m\" 200 -\n",
      "127.0.0.1 - - [30/Nov/2021 22:11:50] \"\u001b[37mGET /_dash-layout HTTP/1.1\u001b[0m\" 200 -\n",
      "127.0.0.1 - - [30/Nov/2021 22:11:50] \"\u001b[37mGET /_dash-component-suites/dash_core_components/async-graph.js HTTP/1.1\u001b[0m\" 200 -\n",
      "127.0.0.1 - - [30/Nov/2021 22:11:50] \"\u001b[37mGET /_dash-component-suites/dash_core_components/async-plotlyjs.js HTTP/1.1\u001b[0m\" 200 -\n",
      "127.0.0.1 - - [30/Nov/2021 22:13:37] \"\u001b[37mPOST /_dash-update-component HTTP/1.1\u001b[0m\" 200 -\n",
      "127.0.0.1 - - [30/Nov/2021 22:13:46] \"\u001b[37mPOST /_dash-update-component HTTP/1.1\u001b[0m\" 200 -\n",
      "127.0.0.1 - - [30/Nov/2021 22:14:03] \"\u001b[37mPOST /_dash-update-component HTTP/1.1\u001b[0m\" 200 -\n",
      "127.0.0.1 - - [30/Nov/2021 22:14:03] \"\u001b[37mGET /_dash-component-suites/dash_table/async-highlight.js HTTP/1.1\u001b[0m\" 200 -\n",
      "127.0.0.1 - - [30/Nov/2021 22:14:03] \"\u001b[37mGET /_dash-component-suites/dash_table/async-table.js HTTP/1.1\u001b[0m\" 200 -\n",
      "127.0.0.1 - - [30/Nov/2021 22:32:30] \"\u001b[37mGET / HTTP/1.1\u001b[0m\" 200 -\n",
      "127.0.0.1 - - [30/Nov/2021 22:32:31] \"\u001b[37mGET /_dash-dependencies HTTP/1.1\u001b[0m\" 200 -\n",
      "127.0.0.1 - - [30/Nov/2021 22:32:31] \"\u001b[37mGET /_dash-layout HTTP/1.1\u001b[0m\" 200 -\n",
      "127.0.0.1 - - [30/Nov/2021 22:32:31] \"\u001b[37mGET /_dash-component-suites/dash_core_components/async-graph.js HTTP/1.1\u001b[0m\" 200 -\n",
      "127.0.0.1 - - [30/Nov/2021 22:32:31] \"\u001b[37mGET /_dash-component-suites/dash_core_components/async-plotlyjs.js HTTP/1.1\u001b[0m\" 200 -\n"
     ]
    }
   ],
   "source": [
    "# run Dash app\n",
    "if __name__ == '__main__':\n",
    "    app.run_server(mode='external', port=9000, debug=False)"
   ]
  }
 ],
 "metadata": {
  "kernelspec": {
   "display_name": "Python 3",
   "language": "python",
   "name": "python3"
  },
  "language_info": {
   "codemirror_mode": {
    "name": "ipython",
    "version": 3
   },
   "file_extension": ".py",
   "mimetype": "text/x-python",
   "name": "python",
   "nbconvert_exporter": "python",
   "pygments_lexer": "ipython3",
   "version": "3.8.8"
  }
 },
 "nbformat": 4,
 "nbformat_minor": 5
}
