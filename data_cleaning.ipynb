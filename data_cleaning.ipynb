{
 "cells": [
  {
   "cell_type": "markdown",
   "id": "368d1fe7",
   "metadata": {},
   "source": [
    "# Data Cleaning\n",
    "\n",
    "Perform data cleaning on article's texts, abstracts and keywords."
   ]
  },
  {
   "cell_type": "code",
   "execution_count": 1,
   "id": "797aae66",
   "metadata": {},
   "outputs": [
    {
     "data": {
      "text/html": [
       "<div>\n",
       "<style scoped>\n",
       "    .dataframe tbody tr th:only-of-type {\n",
       "        vertical-align: middle;\n",
       "    }\n",
       "\n",
       "    .dataframe tbody tr th {\n",
       "        vertical-align: top;\n",
       "    }\n",
       "\n",
       "    .dataframe thead th {\n",
       "        text-align: right;\n",
       "    }\n",
       "</style>\n",
       "<table border=\"1\" class=\"dataframe\">\n",
       "  <thead>\n",
       "    <tr style=\"text-align: right;\">\n",
       "      <th></th>\n",
       "      <th>Title</th>\n",
       "      <th>Abstract</th>\n",
       "      <th>Keywords</th>\n",
       "      <th>URL</th>\n",
       "      <th>Text</th>\n",
       "      <th>Year</th>\n",
       "      <th>Volume#</th>\n",
       "      <th>Issue#</th>\n",
       "    </tr>\n",
       "  </thead>\n",
       "  <tbody>\n",
       "    <tr>\n",
       "      <th>0</th>\n",
       "      <td>Predictive Modeling Applied to Structured Clin...</td>\n",
       "      <td>Predictive analysis is one of current importan...</td>\n",
       "      <td>Electronic Health Record, FI Nnish Diabetes R ...</td>\n",
       "      <td>https://thescipub.com/pdf/jcssp.2021.762.775.pdf</td>\n",
       "      <td>Electronic Health Record (EHR) is the set of c...</td>\n",
       "      <td>2021</td>\n",
       "      <td>17</td>\n",
       "      <td>9</td>\n",
       "    </tr>\n",
       "    <tr>\n",
       "      <th>1</th>\n",
       "      <td>Predicting Risk of Diabetes using a Model base...</td>\n",
       "      <td>Diabetes (diabetes mellitus) is a disease emer...</td>\n",
       "      <td>Diabetes Risk Prediction, FI Nnish Diabetes R ...</td>\n",
       "      <td>https://thescipub.com/pdf/jcssp.2021.748.761.pdf</td>\n",
       "      <td>The diseases prevention is one of the topic of...</td>\n",
       "      <td>2021</td>\n",
       "      <td>17</td>\n",
       "      <td>9</td>\n",
       "    </tr>\n",
       "    <tr>\n",
       "      <th>2</th>\n",
       "      <td>Impact and Control of Drug Therapy Guidelines ...</td>\n",
       "      <td>Since December 2019, many unexplained viral pn...</td>\n",
       "      <td>COVID-19, Cancer, Pneumonia and Healthcare</td>\n",
       "      <td>https://thescipub.com/pdf/jcssp.2021.738.747.pdf</td>\n",
       "      <td>A. The Possible Impact of NCP Epidemic on Canc...</td>\n",
       "      <td>2021</td>\n",
       "      <td>17</td>\n",
       "      <td>8</td>\n",
       "    </tr>\n",
       "    <tr>\n",
       "      <th>3</th>\n",
       "      <td>Structural Equation Model (SEM) for Evaluating...</td>\n",
       "      <td>Information Communication Technology for Devel...</td>\n",
       "      <td>ICT4D, Success Factors, Structural Equation Mo...</td>\n",
       "      <td>https://thescipub.com/pdf/jcssp.2021.724.737.pdf</td>\n",
       "      <td>Information Communication Technology for Devel...</td>\n",
       "      <td>2021</td>\n",
       "      <td>17</td>\n",
       "      <td>8</td>\n",
       "    </tr>\n",
       "    <tr>\n",
       "      <th>4</th>\n",
       "      <td>Extended Fuzzy Decision Support Model for Crop...</td>\n",
       "      <td>Food crops are the preferred crops to be culti...</td>\n",
       "      <td>Fuzzy Logic, Decision Support Model, Euclidean...</td>\n",
       "      <td>https://thescipub.com/pdf/jcssp.2021.709.723.pdf</td>\n",
       "      <td>Food crop productivity is determined by the qu...</td>\n",
       "      <td>2021</td>\n",
       "      <td>17</td>\n",
       "      <td>8</td>\n",
       "    </tr>\n",
       "  </tbody>\n",
       "</table>\n",
       "</div>"
      ],
      "text/plain": [
       "                                               Title  \\\n",
       "0  Predictive Modeling Applied to Structured Clin...   \n",
       "1  Predicting Risk of Diabetes using a Model base...   \n",
       "2  Impact and Control of Drug Therapy Guidelines ...   \n",
       "3  Structural Equation Model (SEM) for Evaluating...   \n",
       "4  Extended Fuzzy Decision Support Model for Crop...   \n",
       "\n",
       "                                            Abstract  \\\n",
       "0  Predictive analysis is one of current importan...   \n",
       "1  Diabetes (diabetes mellitus) is a disease emer...   \n",
       "2  Since December 2019, many unexplained viral pn...   \n",
       "3  Information Communication Technology for Devel...   \n",
       "4  Food crops are the preferred crops to be culti...   \n",
       "\n",
       "                                            Keywords  \\\n",
       "0  Electronic Health Record, FI Nnish Diabetes R ...   \n",
       "1  Diabetes Risk Prediction, FI Nnish Diabetes R ...   \n",
       "2         COVID-19, Cancer, Pneumonia and Healthcare   \n",
       "3  ICT4D, Success Factors, Structural Equation Mo...   \n",
       "4  Fuzzy Logic, Decision Support Model, Euclidean...   \n",
       "\n",
       "                                                URL  \\\n",
       "0  https://thescipub.com/pdf/jcssp.2021.762.775.pdf   \n",
       "1  https://thescipub.com/pdf/jcssp.2021.748.761.pdf   \n",
       "2  https://thescipub.com/pdf/jcssp.2021.738.747.pdf   \n",
       "3  https://thescipub.com/pdf/jcssp.2021.724.737.pdf   \n",
       "4  https://thescipub.com/pdf/jcssp.2021.709.723.pdf   \n",
       "\n",
       "                                                Text  Year  Volume#  Issue#  \n",
       "0  Electronic Health Record (EHR) is the set of c...  2021       17       9  \n",
       "1  The diseases prevention is one of the topic of...  2021       17       9  \n",
       "2  A. The Possible Impact of NCP Epidemic on Canc...  2021       17       8  \n",
       "3  Information Communication Technology for Devel...  2021       17       8  \n",
       "4  Food crop productivity is determined by the qu...  2021       17       8  "
      ]
     },
     "execution_count": 1,
     "metadata": {},
     "output_type": "execute_result"
    }
   ],
   "source": [
    "import pandas as pd\n",
    "\n",
    "# load data\n",
    "df = pd.read_csv('data/article_fulltext_preprocessed.csv')\n",
    "df.head()"
   ]
  },
  {
   "cell_type": "markdown",
   "id": "e132e0aa",
   "metadata": {},
   "source": [
    "## Derived Features"
   ]
  },
  {
   "cell_type": "code",
   "execution_count": 2,
   "id": "62a501fb",
   "metadata": {},
   "outputs": [],
   "source": [
    "# get title's length per article\n",
    "df['Title Length'] = df.Title.str.len()\n",
    "\n",
    "# get abstract's length per article\n",
    "df['Abstract Length'] = df.Abstract.str.len()    \n",
    "\n",
    "# get number of keywords per article\n",
    "df['Number of Keywords'] = df.Keywords.apply(lambda keywords: len(keywords.split(',')))"
   ]
  },
  {
   "cell_type": "markdown",
   "id": "ec05d0ab",
   "metadata": {},
   "source": [
    "## Text Processing\n",
    "\n",
    "- Remove urls, figure texts, and footnote texts\n",
    "- Convert text to lowercase\n",
    "- Remove stopwords\n",
    "- Apply stemming"
   ]
  },
  {
   "cell_type": "code",
   "execution_count": 3,
   "id": "91a75fe8",
   "metadata": {},
   "outputs": [],
   "source": [
    "import re\n",
    "\n",
    "def clean_text(text):\n",
    "    '''\n",
    "    Strip off any urls, figure texts, and footnote texts\n",
    "    '''\n",
    "    \n",
    "    patterns = [r'\\w+:\\/{2}[\\d\\w-]+(\\.[\\d\\w-]+)*(?:(?:\\/[^\\s/]*))*',    # remove urls\n",
    "                r'\\s*\\d+www\\.\\w+\\d*\\.\\w+/\\w+',\n",
    "                r'DOI: \\d+\\.\\d+/\\w+\\.\\d+\\.\\d+\\.\\d+\\s*',                 # remove DOI texts\n",
    "                r'Fig.\\s\\d+:\\s*',                                       # remove Fig texts\n",
    "                r'Journal of Computer Science \\d+,\\s\\d+\\s\\(\\d+\\):\\s\\d+\\.\\d+\\s\\d+\\s*'] # remove footnote text  \n",
    "    \n",
    "    text_temp = text\n",
    "    for pattern in patterns:\n",
    "        text_temp = re.sub(pattern, '', text_temp, flags=re.MULTILINE)\n",
    "    \n",
    "    # convert text to lower case\n",
    "    return text_temp.lower()"
   ]
  },
  {
   "cell_type": "code",
   "execution_count": 4,
   "id": "8c632bb2",
   "metadata": {},
   "outputs": [],
   "source": [
    "import nltk\n",
    "\n",
    "# get unique English stopwords\n",
    "stopwords = set(nltk.corpus.stopwords.words('english'))\n",
    "\n",
    "def remove_stopwords(text):\n",
    "    '''Remove stopwords from text'''\n",
    "    return ' '.join([word for word in text.split(' ') if not word in stopwords])"
   ]
  },
  {
   "cell_type": "code",
   "execution_count": 5,
   "id": "35343781",
   "metadata": {},
   "outputs": [],
   "source": [
    "regex = re.compile(r'[^\\w\\s]+')\n",
    "\n",
    "def clean_text_2(text):\n",
    "    '''Remove none-word characters'''\n",
    "    \n",
    "    # remove any extra spaces\n",
    "    text_temp = re.sub(r'\\s{2,}', ' ', text, flags=re.MULTILINE)\n",
    "    \n",
    "    # remove any none-word characters\n",
    "    sentences = []\n",
    "    for sent in text_temp.split('. '):\n",
    "        sentences.append(' '.join([regex.sub('', word) for word in sent.split(' ')]))\n",
    "    \n",
    "    return '. '.join(sentences)"
   ]
  },
  {
   "cell_type": "code",
   "execution_count": 6,
   "id": "7835d697",
   "metadata": {},
   "outputs": [],
   "source": [
    "import spacy\n",
    "\n",
    "# Initialize spacy 'en' model, keeping only tagger component needed for lemmatization\n",
    "nlp = spacy.load('en_core_web_sm', disable=['parser', 'ner'])\n",
    "\n",
    "def lemmatize_text(text):\n",
    "    # first split text into sentences based on the period\n",
    "    sentences = text.split('. ')\n",
    "    lemmas = []   # a list of lemmatized sentences\n",
    "    \n",
    "    for sent in sentences:\n",
    "        # Parse the text using the loaded 'en' model object `nlp`\n",
    "        doc = nlp(sent)\n",
    "        \n",
    "        # Extract the lemma for each token and join\n",
    "        lemmas.append(\" \".join([token.lemma_ for token in doc]))\n",
    "    \n",
    "    # return the lemmatized text\n",
    "    return \". \".join(lemmas)"
   ]
  },
  {
   "cell_type": "markdown",
   "id": "f09cffbc",
   "metadata": {},
   "source": [
    "### Article's Text"
   ]
  },
  {
   "cell_type": "code",
   "execution_count": 7,
   "id": "76ef7774",
   "metadata": {},
   "outputs": [],
   "source": [
    "df['Text_Cleaned'] = df.Text.apply(clean_text)"
   ]
  },
  {
   "cell_type": "code",
   "execution_count": 8,
   "id": "37d97e4b",
   "metadata": {},
   "outputs": [],
   "source": [
    "# remove stopwords from text\n",
    "df['Text_Cleaned'] = df['Text_Cleaned'].apply(remove_stopwords)"
   ]
  },
  {
   "cell_type": "code",
   "execution_count": 9,
   "id": "aa72cd19",
   "metadata": {},
   "outputs": [],
   "source": [
    "# perform lemmatization on text\n",
    "df['Text_Cleaned'] = df['Text_Cleaned'].apply(lemmatize_text)"
   ]
  },
  {
   "cell_type": "code",
   "execution_count": 10,
   "id": "82b47d24",
   "metadata": {},
   "outputs": [],
   "source": [
    "# remove non-words characters\n",
    "df['Text_Cleaned'] = df['Text_Cleaned'].apply(clean_text_2)"
   ]
  },
  {
   "cell_type": "code",
   "execution_count": 11,
   "id": "5cc3a1b7",
   "metadata": {},
   "outputs": [
    {
     "data": {
      "text/plain": [
       "'electronic health record  ehr  set clinical  health information useful patient treatment  eg.  clinical laboratory report  discharge letter  emergency report produce hospital patient summary  ps  produce general practitioner  gp . datum two different state  validate  eg.  document digitally sign doctor  validate  eg.  health datum pressure  record patient autonomously  scenario  typically talk personal health record  phr . contexts interest point view. patient  often refer concept relate health datum document alessandra pieroni et al.  associate to   1  whole hospitalization.  2  ward  also consider hospitalization outpatient episode within ward itself .  3  gp.  4  whole hospital  consider episode different ward hospitalization too .  5  health datum document patient regardless structure create. contexts  typically electronic patient record  epr   electronic medical record  emr   ehr  phr acronym use different meaning. study  mainly use ehr term. ehrs important contain history patient facilitate care. important issue relate ehrs  standardization type document modalitie access interoperability they. different standard healthcare  eg.  fast healthcare interoperability resource  fhir  1 clinical document architecture  cda  2. start datum contain ehr  use different machine learning  ml  technique increase infer knowledge. highlight shickel et al.  2017   many limitation arise research field deep ehr learning  particular  datum heterogeneity  lack common benchmark  model interpretability. aim define architecture overcome difficulty too. first  propose use structure standard ehrs also try unify patient  representation  reduce data heterogeneity problem. generally  could vector  base representation health code reduce free text usage well manage eg.  laboratory test vital sign. predictive model improve accuracy often without consider eg.  human interpretability equally important research involve topic model interpretability  data heterogeneity  shickel et al.  2017 . propose two component architecture generally second component could least slightly simple explain ability point view  but improve average accuracy time   although absolutely well explore component future work particular issue. moreover  first experiment  use dataset randomly generate accord clinical rule  overcome privacy problem real datum pursue method define common benchmark base arbitrary high dataset. first  highlight relate work context prediction healthcare  particular attention diabetes prediction consider experiment explain study. then  introduce useful concept  ehr  fhir  cda   propose health prediction architecture  hpa  base two principal module. start structured datum ehr  first module  base convolutional neural network  cnn  multi  layer perceptron  mlp   extract feature represent different patient accord particular health issue. then  second module  base graph convolutional network  gcn   simplify graph transduction game  sgtg  near nod class graph  nncg   make prediction particular patient. focus attention reasoning inference structured health datum  no free text   optimal datum quality knowledge dataset. define architecture  propose first experiment base instance  mlp sgtg. experimental objective classify patient risk diabetes start dataset generate use random datum define respect clinical rule  fi nnish diabetes r isk core  findrisc  . ml  lot work healthcare  particularly diabetes  eg.  dagliati et al .  2018 . diabetes  diabetes mellitus  affect ability produce hormone insulin make pancrea help glucose get body cell food  use energy. blood glucose level high  hyperglycemia. person hyperglycemic able regulate blood glucose level  diabetic. type 1 diabetes depend immune system attack pancreatic beta cell  these produce insulin . type 2 diabetes depend insulin resistance. disease make metabolism carbohydrate abnormal raise level glucose blood  high blood sugar level prolong period  consequent symptom  eg.  thirst  hunger urination  complication diabetes treat. therefore  diabetes depend mainly sugar concentration  depend also factor  eg.  age  body mass index  bmi   hereditary factor . findrisc identify patient high risk context type 2 diabetes. relate work paragraph briefly present document order frame topic interest also reference state art useful carry work. begin general prediction issue healthcare. rajkomar et al.  2018  expose study aim predict health issue  mortality  readmission within 30 day  prolong hospitalization inference discharge diagnosis . work use dataset two university health institution. use method initially consider health system maintain patient  ehrs several format  structure unstructured  standardized not  within database. available datum patient encode container base fhir specification. represent patient s ehr event. deep learning  dlstandard  product_briefcfmproduct_id7 alessandra pieroni et al.  model use complete history make kind prediction. work double contribution. first  transformation process define  able take element patient s ehr input datum produce output health level 7  hl7   fhir format  without manual harmonization. moreover  use datum two hospital  demonstrate effective usefulness dl wide range predictive model. approach consider work improve model performance obtain improvement without manual selection variable expert. futoma et al.  2015  study prediction readmission within 30 day. dataset use new zealand national minimum dataset  new zealand ministry health  international classification disease  icd  diagnosis relate group  drg  code. method use  refer follow model  logistic regression  lr   logistic regression variable selection  lrvs   penalize logistic regression  plr   random forest  rf   support vector machine  svm  deep neural network  dnn . darabi et al.  2018  focus subject prediction patient mortality risk  use public dataset medical information mart intensive care  mimic  iii. method refer gradient boost tree  gbt  dnn. particular  use datum ehr related admission phase  demographic information icd code . pham et al.  2017  consider personalize predictive medicine. deep dnn  deep care  define. start read emrs previous history disease. make inference current medical situation  disease progression  intervention future situation prediction  future risk prediction  term readmission mortality. model base recurrent neural network  rnn  long short term memory  lstm  type extend  particular  manage variable size discrete input  interaction medical situation intervention recommendation  irregular timing event. manual engineering feature require. choi et al.  2016  propose doctor ai model. basis rnn use episode record ehr order make diagnosis  medical prescription time interval current follow episode. datum use refer code  icd code  medication code  procedure code . rnn implement gate recurrent unit  gru   alternative lstm. henrique et al.  2014  propose two predictive model consider temporal cros  attribute dependency. model support medical decision integrate healthcare database. huang et al.  2019  objective map clinical note  free text ehr  icd9 code. mimic  iii dataset use natural language processing  nlp  base rnn cnn. methodology consider three phase  datum preprocessing  feature extraction  model training testing. dl model 1d convolution layer  conv1d   lstm gru. zhao et al.  2019  propose alternative approach predict cardiovascular disease respect classical technique base risk factor selection interesting datum. use ml dl technique start ehr datum genetic datum too. datum refer 109490 patient. experiment do first consider ehr datum ehr genetic datum. model use lr  rf  gbt  cnn rnn lstm unit. performance compare standard approach use routine clinical practice. well result compare standard approach. even well result emerge use genetic datum together ehr datum. now  present work prediction context diabete. contrera et al.  2018  review artificial intelligence  ai  technique relate diabetes  select 141 article. initially explore ai technique consider three issue  learn knowledge  exploration discovery knowledge  reasoning knowledge. first issue initially remember type technique  artificial neural network  ann   svm  rf  evolutionary algorithm  ea   dl  naïve baye  nb   decision tree  dt  regression algorithm. then  summarize result consider follow category  blood glucose control strategy  blood glucose prediction  detection adverse glycemic event  insulin bolus calculator advisory system  risk patient personalization  detection meal  exercise fault  lifestyle daily  life support diabetes management. conclusion  evidence growth research ai prediction prevention issue relate diabetes. swapna et al.  2018  study methodology classify diabetic normal heart rate variability  hrv  signal use deep learning. hrv signal come electro cardio gram  ecg  signal. architecture three principal module  cnn  lstm svm. cnn module compose 5 cnn layer layer max pool. lstm 70 memory block dropout 01 remove randomly neuron. svm use final classification feature extract cnn lstm module. use radial basis function  rbf  kernel. experiment  use graphic processing unit  gpu  tensor flow  keras scikit  learn. architecture propose useful help diabete diagnosis use ecg signal  accuracy 957 . miotto et al.  2016  propose patient general feature obtain automatically ehr dataset use dl. use data mount sinai data warehouse. ehrs process unsupervised method dnn base stack denoise autoencoder  sda  architecture. framework use different prediction  also relate diabetes disease. patient dataset  keep demographic datum  diagnosis  icd9 code   medication  procedure  lab test clinical alessandra pieroni et al.  note  free text . sda architecture use obtain patient representation start 704857 patient dataset. prediction probability patient particular disease  use rf  100 tree classifier . sisodia et al.  2018  use dt  svm nb predict diabetes early stage. dataset derive university california  irvine  uci  repository. measure performance precision  accuracy  f  measure  recall receiver operate curve  roc . experiment  use waikato environment knowledge analysis  weka  tool. high accuracy nb algorithm. kavakiotis tsave  2017  present review ml data mining diabetes issue diabetic complication  genetic background environment  healthcare management  most popular  prediction diagnosis. show 85  ml algorithm use supervise algorithms 15  unsupervised. svm outcome use well result. mercaldo et al.  2017  study method classify patient affect diabete use hoeffde tree  ht  algorithm  also know fast decision tree  vfdt  algorithm. aim classify diabetes patient minimum feature number obtain solution useful real scenario. consider set characteristic base world health organization  who  criterion. particular  consider vector follow attribute  number time pregnant  plasma glucose concentration 2 h oral glucose tolerance test  diastolic blood pressure  triceps skin fold thickness  2 h serum insulin  bmi  diabete pedigree function  age. study basis uci repository  usual. classification  verify feature select representative choice patient diabetes not. use follow ml classification algorithm  j48  mlp  ht  jrip  bayesian network  bn  rf. classification execute weka tool. obtain precision 0757 recall 0762. erdem et al.  2012  introduce graph transduction game  gtg  different game  theoretic idea problem graph transduction. follow  work use describe gtg component interest. problem define multi  player non  cooperative game player sample decide belong class. experiment do erdem et al.  2012   consider also diabete dataset uci evaluate behavior gtg respect method. electronic health record ehrs contain datum could come multiple health facility. access datum accordance privacy consent rule establish patient too. datum document contain ehr  consider two type problem standardization point view  structure clinical health document use standard code within document themselves. generally  consider that  although tendency structure information much possible  necessary assume ehr structure unstructured datum coexist together. study  focus mainly prediction start consolidate datum therefore consider structured datum free text. suppose consider ehr eg.  simply base structure standardized datum or  even well  base datum respect fhir cda release 2  cdar 2  format. hl7 fhir standard define idea lot useful feature  easy develop minimum constraint necessary tool  semantically robust  friendly developer  artifact clear intuitive able validate automatically. use common format tool web  base technology specification. furthermore  fhir refer modern technology web context  eg.  hypertext transfer protocol  http   extensible markup language  xml  javascript object notation  json  . online specification consider format  unified turtle. important concept fhir essentially follow  resource  extension  datatype  profile bundle. resource small unit useful datum exchange interoperability context. different category resource include example medication  diagnostic  workflow management. different resource associate within category. example resource follow  patient  encounter  medication  observation  procedure  composition condition. resource consist several element  datatype. format resource turn understandable clinician  even specification developer. fhir consider aspect interoperability health context  eg.  clinical  administrative  research aspect  support interoperability four paradigm  representational state transfer  rest   messaging  document  service . define correct use resource different context  profile. see  eg.  pais et al.  2017  develop data model wellness datum use fhir standard. patient produce wellness datum use smart phone portable device  enrich phr ehr. fhir support interoperability. consider blood glucose  blood pressure bmi data relate disease diabetes hypertension. cda useful define specification health clinical document xml format. use hl7 reference information model  rim  local control vocabulary  use  eg.  icd  systematize nomenclature medicine  clinical term  snome  ct   logical observation identifier name code  loinc   . cdar2 possible increase interoperability bind structure content document. many scenario involve cda document refer repository registry. document repository alessandra pieroni et al.  archive health clinical document patient. registry maintain link document store different repository. example  query registry retrieve list document associate patient. access various document query repository contain document. example  repository could belong health facility index could belong regional national level. typically  registry maintain address document repository  identification metadata  eg.  patient code  healthcare facility episode  document type  eg.  discharge letter  laboratory report  radiology report . cdar2 document xml document particular rule base health clinical context. essentially readable. however  application level use user  orient layout. possible use style sheet  eg.  transformation portable document format  pdf  . cdar 2 document consist header body. cdar2 validation level three. level one  validation concern requirement describe cdar 2 specification. level two  validation bind version cdar 2 specification  eg.  implementation guide define particular type document specific national context  case  usually mandatory section. level three  situation similar level two mandatory choice high refer entry term vocabulary act code  eg.  act could procedure clinical observation . example implementation guide follow  international ps  ips   laboratory medicine report  radiology report  hospital discharge letter. different type document emerge  relate different health topic regional variant. eg.  already paterson et al.  2002  present prototype use cda context discharge summary  liang et al.  2003  study design implementation issue database use efficiently retrieve datum cda document. although study consider first experiment limited number input attribute  table 1 present example hypothetical rich structured input datum  format  include dimension  consider possible patient ehrs attribute correspond fhir resource attribute. similar consideration could do consider attribute possibly define cda 2 standard document consider type ehr  standard not . detail attribute  sub  attributes format type example  refer 3. course  instance one single resource patient  eg.   observation correspond blood test . health prediction architecture hpa two main module  feature extraction prediction  describe fig. 1  1  know classification patient  2  unknown classification patient  3  feature extract know classification patient  4  feature extract unknown classification patient  5  classification prediction unknown classification patient . module  one sub  module use consider prediction activity. cnn component  fig. 2  follow layer  conv pooling 2d  flatten  dense  batch normalization  activation table 1  example input datum extract hypothetical ehr attribute base fhir resource attribute module resource format clinical allergyintolerance see 4 condition  problem  procedure familymemberhistory careplan goal careteam clinicalimpression adverseevent detectedissue diagnostic observation see 5 diagnosticreport servicerequest medium imagingstudy molecularsequence speciman bodystructure medication medicationrequest see 6 medicationdispense medicationadministration medicationstatement medication medicationknowledge immunization immunizationevaluation immunizationrecommendation workflow referral  servicerequest  see 7  clinical process  order  nutritionorder  visionprescription  devicerequest supplyrequest alessandra pieroni et al.  hpa cnn component scenario  already consider context  eg.  sharma et al.  2019   try use cnn non  image datum. simple possible hypothesis dimension widthdepthnumber channel   1  width   nm1    a  n  number fix clinical test component interest  eg.  consider white blood cell  wbc  complete blood count  cbc     b  m  number fix diagnosis consider inpatient  outpatient visit discharge   c  1  gender age range   2  depth  k  number last result consider clinical test diagnosis  ie.  index 1 last value index k k  th last value   a   b  scenario number gender age range couple identify   c  scenario   3  number channel  h  number health facility consider patient datum  eg.  h  2 consider two health facility . consider cnn regardless  high low  number input  emphasize anyway particular use force representation structure datum. mlp component follow layer  dense  out  dense  layer produce feature extraction   batch normalization  scenario  consider single clinical datum simply input network. prediction layer architecture need evaluate distance  or similarity  two data element  we also use term node distinguish label node  element unlabeled node  element   node  element include feature extract first layer. generally  consider different distance  similarity  euclidean  cosine  gaussian kernel alessandra pieroni et al.  euclidean  gaussian kernel cosine  distance  similarity define two variant  with feature correlation weight without feature correlation weight . feature correlation describe much important particular feature prediction training node. therefore  distance definition consider also value. gcn component  kipf well  2016  study problem classify node graph nod specific know label associate. propose new approach semi  supervised classification problem. use derive implementation8. particular  use gcn layer net class. mathematical model gcn   1  layer network  wl  weight matrix lth layer  matrix graph a  adjacency matrix graph function non  linearity. h0  input shape. consider layer last layer establish dimension feature vector output node. gcn determine new representation node n  changingwith linear operation follow non  linearity   2  build initial graph  define simple algorithm  range  0  number node  j range  I  number node  similarityijprecision similarity  add edge  I  j   j  i  graph normalize similarity  between 0 1   therefore precision similarity fix value 0 1  typically great 05 . node feature extract cnn mlp component. training gcn  evaluate accuracy prediction make testing dataset represent feature extract before. sgtg component  must refer erdem et al.  2012  simply refer work useful context  eg.  schiavinato  2014  urbani  2018 . initially  refer cite work also discrete  replicator  dynamic algorithm subsequently use work implement sgtg component. ml semi  supervised approach label  give label set object . graph modelling  object nod weight edge similarity measure node. here  interest 8 consider graph transduction method. important assumption cluster assumption  correspond behavior individual bind similar individual. graph transduction model  set object  node  feature  subset node already label subset label. adjacency matrix w contain similarity couple node. idea graph transduction estimate consistent labelling node  start cluster assumption. gtg  possible define graph transduction problem non  cooperative game. object  node graph  player normal form game. ideally  label pure strategy. player  play pure strategy  declare labelling. idea player payoff high choose label one choose similar player. however  relax formulation problem  necessary consider mixed strategy. strategy mix unlabele node  pure define label node. define payoff function  assume interaction couple player. solution game nash equilibrium. obtain equilibrium  player choose pure strategy  label  one high probability mixed strategy. context  player patient represent feature extract cnn mlp. mixed strategy profile contain correspond high payoff player choice mixed strategy correspond similar patient choice similar. define simplify version gtg  name sgtg  essentially adjust similarity matrix follow  only pair testing  unlabeled  node  range  0  number testing node  j range  i  number testing node  wijprecision similarity  wij10 wji10 else  wij00 wji00 normalize similarity  between 0 1   therefore precision similarity fix value 0 1  typically great 05 . initialization mix strategy x  unlabeled node  1  m possible label  number possible label  label node  1 right label  0 otherwise   implementation prediction algorithm  sgtg derive gtg  discrete  replicator  dynamic  follow  range0intnumber test nodes12    range  0  number testing node  alessandra pieroni et al.   0 j range  0  number node  h range  0  m  s  xihwijxjh  h range  0  m  s1  0 j range  0  number node  s1   wijxjh  xih   xihs1  s replicator dynamic  fix point nash equilibrium. simplify algorithm start operator use discretization time    3  formula  u payoff function player  x mix strategy profile. detail  see erdem et al.  2012  too. execution code  evaluate accuracy prediction obtain initially unlabeled node  simply consider argmax. define nncg algorithm strong simplification gtg algorithm. particular  unlabeled node consider similarity array contain similarity particular unlabeled node label node. consider number know node possible label  simply determine label unknown node follow  s1   00 range  0  m   s1temp   00 range  0  m   range  0  training nod numbersn   h range  0  m  hx  i   s1temphwi  break class order  eg.   diabetes risk level   adopt add code follow consider similarity label too  h range  0  m  z range  0  m  s1h  s1temph1  absz  hm  execution code  evaluate accuracy prediction obtain initially unlabeled node  simply consider argmax. fig. 3  present graph representation example valid gcn sgtg general conceptual point view. notice arc present similarity sufficiently high two node. node n highly similar unlabeled node two label node similar  and belong different class . fig. 4  present example nncg. case  edge couple label unlabeled node  weight edge depend similarity two node. here  interested similarity two unlabeled node. first experiment different experiment possible instantiation architecture  initially consider dataset simple version xml document simple datum too. generally  methodology research operate essentially task  1  define feature extraction module  sub  module  variant literature 2  define prediction module  sub  module  variant literature 3  loop instance architecture test architecture redefine module instantiation parameter accord testing result stable satisfactory result study  present first simple experiment base instantiation mlp feature extraction module sgtg prediction module. experiment generate randomly ehr limited useful clinical datum without fhir cdar 2  or simply xml  representation. useful clinical datum refer diabetes identify patient different risk level context type 2 diabetes. consider accuracy evaluation  use different definition due order label particular problem. experiment  use colaboratory 9 use gpu runtime environment. findrisc  usually comprise follow eight item  age  year   a   body mass index  bmi  weight  kgheight square  m2    b   waist circumference  w   differentiate gender  g    use blood pressure medication  u   history high blood glucose  h   physical activity express hour  week  p   daily consumption vegetable  fruit berry  d   family history diabetes  f . use derivate algorithm10 produce training testing dataset. input datum normalize  01  balanced respect diabetes risk. maximum achievable score 26 five risk level respect score  low  0  3   low  4  8  moderate  9  12   high  13  20  high  21  26 . alessandra pieroni et al.  graph representation gcn sgtg graph representation nncg consider possibility order label value  establish evaluate model   4  where  np  total number prediction  unlabeled node  rl  right label node plij  risk j level prediction node m  number possible label  in study   5  experiment  consider follow dataset  equally distribute term possible label  risk level  we generate randomly dataset use findrisc clinical rule  1  testing dataset  experiment contain 400 node  unlabeled patient  2  training dataset  generate value number node  label patient  value extract feature number particular   1  consider possible label node number  100  125  150  175  200   2  consider possible extract feature number  25  30  35. interest relate scenario testing dataset great training dataset. moreover  initially consider relatively low cardinality consider population. table 2  present data distribution dataset. mean standard deviation truncate third decimal digit. findirsc parameter normalize range  01 . findrisc parameter be  0  gender 1  age 2  body mass index 3  waist circumference 4  blood pressure medication 5  blood glucose alessandra pieroni et al.  6  physical activity 7  daily vegetable 8  family history second layer  similarity measure  first experiment choose simply euclidean distance without feature correlation weight. also normalize value  w adjacency  distance  similarity  matrix node   5  experiment  instantiate mlp follow   1  number unit first dense layer  1280   2  number unit second dense layer  160   3  number unit third dense layer  equal number extract feature   4  number unit fourth dense layer  5   5  dropout parameter  025. input shape first dense layer dimension 9  correspond number clinical attribute relate findrisc clinical rule. use adam optimizer learning rate equal 001  compile sparse categorical cross entropy loss accuracy metric. fit model use 1000 epoch  02 validation split  100 batch size. sgtg  instantiate precision similarity parameter value 075. table 3 fig. 4  5  6  present result. see generally behavior hpa slightly well mlp alone. simple analysis result  see good result accuracy  both hpa mlp  training dataset 200 element  the maximum number element  25 extract feature  the minimum number extract feature . moreover  25 30 extract feature scenario  increment accuracy mlp hpa case. medium execution time training prediction  for mlp consider training prediction together  sgtg prediction  be  1  mlp  4167 sec  min  17  max  60  2  sgtg  3467 sec  min  28  max  41  sgtg relatively good response time prediction experiment  consider number node high and  simplify  cost on52   usually high. see  already first experiment architecture  obtain well accuracy use mlp establish method testing base randomized control dataset  well evaluate model. table 2  data distribution dataset number findrisc standard element parameter mean deviation 400 0 049 049 400 1 050 030 400 2 051 032 400 3 044 029 400 4 047 049 400 5 053 049 400 6 050 031 400 7 052 049 400 8 060 040 100 0 053 049 100 1 051 030 100 2 049 028 100 3 050 029 100 4 054 049 100 5 053 049 100 6 049 033 100 7 052 049 100 8 056 042 125 0 052 049 125 1 049 028 125 2 048 033 125 3 046 030 125 4 050 049 125 5 049 049 125 6 050 033 125 7 055 049 125 8 059 039 150 0 053 049 150 1 050 029 150 2 050 032 150 3 048 030 150 4 049 049 150 5 053 049 150 6 051 031 150 7 058 049 150 8 063 039 175 0 044 049 175 1 049 030 175 2 050 031 175 3 044 031 175 4 043 049 175 5 057 049 175 6 052 033 175 7 056 049 175 8 058 041 200 0 054 049 200 1 048 029 200 2 049 029 200 3 046 029 200 4 052 049 200 5 056 049 200 6 053 031 200 7 048 049 200 8 056 039 alessandra pieroni et al.  table 3  este  unlabeled  dataset number label element number extract feature 100 25 0865625 087875 100 30 0863125 0870625 100 35 0861875 0876875 125 25 0883125 08875 125 30 0885625 0889375 125 35 0886875 0886875 150 25 0896875 090125 150 30 0896875 090375 150 35 0896875 0898125 175 25 088375 0896875 175 30 0891875 0900625 175 35 0894375 09025 200 25 0913125 09175 200 30 090625 09125 200 35 090875 0908125 accuracy  vs training datum set cardinality  number feature extract  25  accuracy  vs training datum set cardinality  number feature extract  30  alessandra pieroni et al.  accuracy  vs training datum set cardinality  number feature extract  35  conclusion study  propose general architecture name hpa compose two principal module. first module  base alternatively cnn mlp  produce feature extraction represent node. second module  base alternatively gcn  sgtg nncg  produce prediction node. context interest belong healthcare patient classification use structured health datum. present ehr related standard  fhir cdar 2 . propose architecture manage issue  dataset heterogeneity  accuracy consider explain ability too  dataset benchmarke . interested structured datum reason interested fhir cdar 2 too  evaluate standardized dataset. study  also implement particular instance architecture example test. particular  consider problem patient classification diabetes   1  accord clinical rule  findrisc   produce balanced set label unlabeled diabetes patient initial dataset test   2  define train mlp extract feature node   3  implement sgtg prediction diabetes risk use euclidean distance similarity matrix use discrete  replicator  dynamic algorithm variant.  variant accuracy definition  compare mlp prediction hpa prediction. future work  interested present new instance hpa  try optimize accuracy show result current future experiment. particular  also want verify good solution accord number dataset element  training testing   compare gcn  sgtg nncg result consider cnn mlp. also interested evaluate behavior accord use different similarity  distance definition. want evaluate behavior hpa know dataset. consider train dataset patient respect testing dataset evaluate behavior consider high amount datum. moreover  also interested evaluate hpa explainable term input variable  patient parameter   use deep taylor decomposition  eg.  montavon et al.  2017 . initial idea define first explainable layer specific prediction sub  module second explanation layer specific feature extraction sub  module. especially prediction sub  module  could necessary define particular solution base theory relate consider sub  module. subsequently  deep taylor decomposition could mainly use eg.  feature extraction sub  module. funding information research receive specific grant funding agency public  commercial  not  for  profit sector. alessandra pieroni  design research plan organize study  coordinated data  analysis contribute writing manuscript. alessandro cabroni  design research plan organize study  coordinated data  analysis contribute writing manuscript  participate experiment. francesca fallucchi  design research plan organize study  coordinated data  analysis contribute writing manuscript. noemi scarpato  design research plan organize study. alessandra pieroni et al.  ethic paper neither publish review elsewhere '"
      ]
     },
     "execution_count": 11,
     "metadata": {},
     "output_type": "execute_result"
    }
   ],
   "source": [
    "df['Text_Cleaned'].values[0]"
   ]
  },
  {
   "cell_type": "markdown",
   "id": "d2997b14",
   "metadata": {},
   "source": [
    "### Abstracts\n",
    "\n"
   ]
  },
  {
   "cell_type": "code",
   "execution_count": 12,
   "id": "e228b187",
   "metadata": {},
   "outputs": [],
   "source": [
    "# convert text to lower case\n",
    "df['Abstract_Cleaned'] = df['Abstract'].map(lambda text: text.lower())\n",
    "\n",
    "# remove stopwords\n",
    "df['Abstract_Cleaned'] = df['Abstract_Cleaned'].apply(remove_stopwords)"
   ]
  },
  {
   "cell_type": "code",
   "execution_count": 13,
   "id": "f4445b49",
   "metadata": {},
   "outputs": [],
   "source": [
    "# perform lemmatization\n",
    "df['Abstract_Cleaned'] = df['Abstract_Cleaned'].apply(lemmatize_text)"
   ]
  },
  {
   "cell_type": "code",
   "execution_count": 14,
   "id": "a52ecfec",
   "metadata": {},
   "outputs": [],
   "source": [
    "# remove any non-words character\n",
    "df['Abstract_Cleaned'] = df['Abstract_Cleaned'].apply(clean_text_2)"
   ]
  },
  {
   "cell_type": "code",
   "execution_count": 15,
   "id": "3bdbdf12",
   "metadata": {},
   "outputs": [
    {
     "data": {
      "text/plain": [
       "'predictive analysis one current important issue healthcare context. lot patient  input datum obtain electronic health record. research  propose general architecture name health prediction architecture. initially  consider datum refer strongly structured health dataset  no free text . objective relate explore problem prediction context healthcare. particular  consider dataset heterogeneity  accuracy together explain ability  dataset benchmarke. presentation electronic health record useful related standard  propose architecture base two principal module. first module produce feature extraction implement convolutional neural network alternatively multi  layer perceptron. second module produce prediction implement alternatively one graph convolutional network  simplify graph transduction game  near node class graph. define dataset randomly possibility manage datum sufficiently heterogeneous useful benchmarking  without privacy problem too. study  experiment first instantiation architecture  base multi  layer perceptron first module simplify graph transduction game second module  consider health datum relate type 2 diabetes risk  generate accord healthcare rule. try architecture slightly increase cardinality dataset extract feature. first result research  study produce training testing randomized dataset obtain testing accuracy behavior generally well use multi  layer perceptron  good accuracy 200 label element . architecture aim evolve use general solution healthcare prediction context. also interested study solution future work explain ability point view  particular interest explain result term input attribute. predictive analysis one current important issue healthcare context. lot patient  input datum obtain electronic health record. research  propose general architecture name health prediction architecture. initially  consider datum refer strongly structured health dataset  no free text . objective relate explore problem prediction context healthcare. particular  consider dataset heterogeneity  accuracy together explain ability  dataset benchmarke. presentation electronic health record useful related standard  propose architecture base two principal module. first module produce feature extraction implement convolutional neural network alternatively multi  layer perceptron. second module produce prediction implement alternatively one graph convolutional network  simplify graph transduction game  near node class graph. define dataset randomly possibility manage datum sufficiently heterogeneous useful benchmarking  without privacy problem too. study  experiment first instantiation architecture  base multi  layer perceptron first module simplify graph transduction game second module  consider health datum relate type 2 diabetes risk  generate accord healthcare rule. try architecture slightly increase cardinality dataset extract feature. first result research  study produce training testing randomized dataset obtain testing accuracy behavior generally well use multi  layer perceptron  good accuracy 200 label element . architecture aim evolve use general solution healthcare prediction context. also interested study solution future work explain ability point view  particular interest explain result term input attribute '"
      ]
     },
     "execution_count": 15,
     "metadata": {},
     "output_type": "execute_result"
    }
   ],
   "source": [
    "# look at the first abstract\n",
    "df['Abstract_Cleaned'].values[0]"
   ]
  },
  {
   "cell_type": "markdown",
   "id": "60047afd",
   "metadata": {},
   "source": [
    "### Keywords"
   ]
  },
  {
   "cell_type": "code",
   "execution_count": 23,
   "id": "13242043",
   "metadata": {},
   "outputs": [],
   "source": [
    "from nltk.stem.snowball import SnowballStemmer\n",
    "\n",
    "# create a Snowball Stemmer object for stemming\n",
    "stemmer = SnowballStemmer(\"english\")\n",
    "\n",
    "def stem_text(text):\n",
    "    '''Apply stemming on text '''\n",
    "    # build a list of keywords\n",
    "    keywords = text.split(',')\n",
    "    \n",
    "    # apply stemming to each keywords\n",
    "    stems = []\n",
    "    stems.append(' '.join([stemmer.stem(word) for word in text.split(' ')]))\n",
    "    \n",
    "    # return processed text, after apply stemming\n",
    "    return ', '.join(stems)"
   ]
  },
  {
   "cell_type": "code",
   "execution_count": 32,
   "id": "13912158",
   "metadata": {},
   "outputs": [],
   "source": [
    "# convert text to lower case\n",
    "df['Keywords_Cleaned'] = df['Keywords'].map(lambda text: text.lower())\n",
    "\n",
    "# remove dash from text\n",
    "df['Keywords_Cleaned'] = df['Keywords_Cleaned'].map(lambda text: re.sub(r'-', ' ', text))\n",
    "\n",
    "# apply stemming\n",
    "df['Keywords_Cleaned'] = df['Keywords_Cleaned'].apply(stem_text)"
   ]
  },
  {
   "cell_type": "code",
   "execution_count": 33,
   "id": "a02b6d25",
   "metadata": {},
   "outputs": [
    {
     "data": {
      "text/plain": [
       "0    electron health record, fi nnish diabet r isk ...\n",
       "1    diabet risk prediction, fi nnish diabet r isk ...\n",
       "2            covid 19, cancer, pneumonia and healthcar\n",
       "3    ict4d, success factors, structur equat model a...\n",
       "4    fuzzi logic, decis support model, euclidean di...\n",
       "Name: Keywords_Cleaned, dtype: object"
      ]
     },
     "execution_count": 33,
     "metadata": {},
     "output_type": "execute_result"
    }
   ],
   "source": [
    "df['Keywords_Cleaned'].head()"
   ]
  },
  {
   "cell_type": "markdown",
   "id": "c8ff4e48",
   "metadata": {},
   "source": [
    "## Save Data"
   ]
  },
  {
   "cell_type": "code",
   "execution_count": 34,
   "id": "d88a7ae7",
   "metadata": {},
   "outputs": [],
   "source": [
    "df.to_csv('data/data_cleaned.csv', index=False)"
   ]
  }
 ],
 "metadata": {
  "kernelspec": {
   "display_name": "Python 3",
   "language": "python",
   "name": "python3"
  },
  "language_info": {
   "codemirror_mode": {
    "name": "ipython",
    "version": 3
   },
   "file_extension": ".py",
   "mimetype": "text/x-python",
   "name": "python",
   "nbconvert_exporter": "python",
   "pygments_lexer": "ipython3",
   "version": "3.8.8"
  }
 },
 "nbformat": 4,
 "nbformat_minor": 5
}
